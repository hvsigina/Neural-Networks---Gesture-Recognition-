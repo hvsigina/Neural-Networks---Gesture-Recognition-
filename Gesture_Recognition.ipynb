{
 "cells": [
  {
   "cell_type": "markdown",
   "metadata": {},
   "source": [
    "# Gesture Recognition\n",
    "In this group project, you are going to build a 3D Conv model that will be able to predict the 5 gestures correctly. Please import the following libraries to get started."
   ]
  },
  {
   "cell_type": "code",
   "execution_count": 1,
   "metadata": {},
   "outputs": [
    {
     "name": "stderr",
     "output_type": "stream",
     "text": [
      "Using TensorFlow backend.\n"
     ]
    }
   ],
   "source": [
    "import numpy as np\n",
    "import os\n",
    "from imageio import imread\n",
    "import datetime\n",
    "import os\n",
    "from pathlib import Path\n",
    "from skimage.transform import resize\n",
    "from keras.applications import ResNet50\n",
    "from keras.applications.resnet50 import preprocess_input"
   ]
  },
  {
   "cell_type": "markdown",
   "metadata": {},
   "source": [
    "We set the random seed so that the results don't vary drastically."
   ]
  },
  {
   "cell_type": "code",
   "execution_count": 2,
   "metadata": {},
   "outputs": [],
   "source": [
    "np.random.seed(30)\n",
    "import random as rn\n",
    "import math\n",
    "rn.seed(30)\n",
    "from keras import backend as K\n",
    "import tensorflow as tf\n",
    "tf.set_random_seed(30)"
   ]
  },
  {
   "cell_type": "markdown",
   "metadata": {},
   "source": [
    "In this block, you read the folder names for training and validation. You also set the `batch_size` here. Note that you set the batch size in such a way that you are able to use the GPU in full capacity. You keep increasing the batch size until the machine throws an error."
   ]
  },
  {
   "cell_type": "code",
   "execution_count": 3,
   "metadata": {},
   "outputs": [],
   "source": [
    "train_doc = np.random.permutation(open('Project_data/train.csv').readlines())\n",
    "val_doc = np.random.permutation(open('Project_data/val.csv').readlines())\n",
    "batch_size = 10 "
   ]
  },
  {
   "cell_type": "markdown",
   "metadata": {},
   "source": [
    "## Generator\n",
    "This is one of the most important part of the code. The overall structure of the generator has been given. In the generator, you are going to preprocess the images as you have images of 2 different dimensions as well as create a batch of video frames. You have to experiment with `img_idx`, `y`,`z` and normalization such that you get high accuracy."
   ]
  },
  {
   "cell_type": "code",
   "execution_count": 4,
   "metadata": {},
   "outputs": [],
   "source": [
    "def generator(source_path, folder_list, batch_size):\n",
    "    print( 'Source path = ', source_path, '; batch size =', batch_size)\n",
    "    img_idx = [0,3,7,10,14,17,20,23,26,29]\n",
    "    x = 10 #frames\n",
    "    y = 90 #width of resized image\n",
    "    z = 90 #height of resized image\n",
    "    while True:\n",
    "        t = np.random.permutation(folder_list)\n",
    "        num_batches = math.floor(len(t)/batch_size) # calculate the number of batches\n",
    "        for batch in range(num_batches): # we iterate over the number of batches\n",
    "            batch_data = np.zeros((batch_size,x,y,z,3)) # x is the number of images you use for each video, (y,z) is the final size of the input images and 3 is the number of channels RGB\n",
    "            batch_labels = np.zeros((batch_size,5)) # batch_labels is the one hot representation of the output\n",
    "            for folder in range(batch_size): # iterate over the batch_size\n",
    "                imgs = os.listdir(source_path+'/'+ t[folder + (batch*batch_size)].split(';')[0]) # read all the images in the folder\n",
    "                for idx,item in enumerate(img_idx): #  Iterate iver the frames/images of a folder to read them in\n",
    "                    image = imread(source_path+'/'+ t[folder + (batch*batch_size)].strip().split(';')[0]+'/'+imgs[item]).astype(np.float32)\n",
    "                     \n",
    "                    if image.shape[1] == 160:\n",
    "                        # converting this image to 1:1 aspect ratio, then resizing\n",
    "                        image = resize(image[:,20:140,:],(y,z)).astype(np.float32)\n",
    "                    else:\n",
    "                        image = resize(image,(y,z)).astype(np.float32)\n",
    "                    \n",
    "                    batch_data[folder,idx,:,:,0] = [[float(i)/255 for i in row] for row in image[:,:,0]]\n",
    "                    batch_data[folder,idx,:,:,1] = [[float(i)/255 for i in row] for row in image[:,:,1]]\n",
    "                    batch_data[folder,idx,:,:,2] = [[float(i)/255 for i in row] for row in image[:,:,2]]\n",
    "                    \n",
    "                batch_labels[folder, int(t[folder + (batch*batch_size)].strip().split(';')[2])] = 1\n",
    "            yield batch_data, batch_labels #you yield the batch_data and the batch_labels, remember what does yield do\n",
    "\n",
    "        if len(t)%batch_size !=0:\n",
    "            batch_data = np.zeros((batch_size,x,y,z,3)) # x is the number of images you use for each video, (y,z) is the final size of the input images and 3 is the number of channels RGB\n",
    "            batch_labels = np.zeros((batch_size,5)) # batch_labels is the one hot representation of the output\n",
    "            for folder in range(batch_size): # iterate over the batch_size\n",
    "                imgs = os.listdir(source_path+'/'+ t[folder + (batch*batch_size)].split(';')[0]) # read all the images in the folder\n",
    "                for idx,item in enumerate(img_idx): #  Iterate iver the frames/images of a folder to read them in\n",
    "                    image = imread(source_path+'/'+ t[folder + (batch*batch_size)].strip().split(';')[0]+'/'+imgs[item]).astype(np.float32)\n",
    "                     \n",
    "                    if image.shape[1] == 160:\n",
    "                        # converting this image to 1:1 aspect ratio, then resizing\n",
    "                        image = resize(image[:,20:140,:],(y,z)).astype(np.float32)\n",
    "                    else:\n",
    "                        image = resize(image,(y,z)).astype(np.float32)\n",
    "                        \n",
    "                    batch_data[folder,idx,:,:,0] = [[float(i)/255 for i in row] for row in image[:,:,0]]\n",
    "                    batch_data[folder,idx,:,:,1] = [[float(i)/255 for i in row] for row in image[:,:,1]]\n",
    "                    batch_data[folder,idx,:,:,2] = [[float(i)/255 for i in row] for row in image[:,:,2]]\n",
    "                    \n",
    "                batch_labels[folder, int(t[folder + (batch*batch_size)].strip().split(';')[2])] = 1\n",
    "            yield batch_data, batch_labels \n"
   ]
  },
  {
   "cell_type": "markdown",
   "metadata": {},
   "source": [
    "Note here that a video is represented above in the generator as (number of images, height, width, number of channels). Take this into consideration while creating the model architecture."
   ]
  },
  {
   "cell_type": "code",
   "execution_count": 5,
   "metadata": {},
   "outputs": [
    {
     "name": "stdout",
     "output_type": "stream",
     "text": [
      "# training sequences = 663\n",
      "# validation sequences = 100\n",
      "# epochs = 15\n"
     ]
    }
   ],
   "source": [
    "curr_dt_time = datetime.datetime.now()\n",
    "train_path = './Project_data/train'\n",
    "val_path = './Project_data/val'\n",
    "num_train_sequences = len(train_doc)\n",
    "print('# training sequences =', num_train_sequences)\n",
    "num_val_sequences = len(val_doc)\n",
    "print('# validation sequences =', num_val_sequences)\n",
    "num_epochs = 15\n",
    "print ('# epochs =', num_epochs)"
   ]
  },
  {
   "cell_type": "markdown",
   "metadata": {},
   "source": [
    "## Model\n",
    "Here you make the model using different functionalities that Keras provides. Remember to use `Conv3D` and `MaxPooling3D` and not `Conv2D` and `Maxpooling2D` for a 3D convolution model. You would want to use `TimeDistributed` while building a Conv2D + RNN model. Also remember that the last layer is the softmax. Design the network in such a way that the model is able to give good accuracy on the least number of parameters so that it can fit in the memory of the webcam."
   ]
  },
  {
   "cell_type": "markdown",
   "metadata": {},
   "source": [
    "### CNN+RNN"
   ]
  },
  {
   "cell_type": "code",
   "execution_count": 6,
   "metadata": {},
   "outputs": [],
   "source": [
    "from keras.models import Sequential, Model\n",
    "from keras.applications.vgg16 import VGG16\n",
    "from keras.layers import Dense, Input, GRU, LSTM, Flatten, TimeDistributed, Flatten, BatchNormalization, Activation, Dropout, GlobalAveragePooling2D\n",
    "from keras.layers.convolutional import Conv3D, MaxPooling3D, Convolution2D, MaxPooling2D\n",
    "from keras.callbacks import ModelCheckpoint, ReduceLROnPlateau\n",
    "from keras import optimizers\n",
    "from keras import initializers"
   ]
  },
  {
   "cell_type": "code",
   "execution_count": 7,
   "metadata": {},
   "outputs": [],
   "source": [
    "dropout = 0.5\n",
    "weights = initializers.TruncatedNormal(mean=0.0, stddev=0.1, seed=2)\n",
    "rnn_output_size = 128\n",
    "nb_classes = 5\n",
    "img_rows, img_cols = 90, 90\n",
    "img_channels = 3\n",
    "frames = 10"
   ]
  },
  {
   "cell_type": "code",
   "execution_count": 8,
   "metadata": {},
   "outputs": [],
   "source": [
    "def get_tranferlearning_timedistributed_model():\n",
    "    \n",
    "    # Get base model: VGG16\n",
    "    video = Input(shape=(frames,img_rows,img_cols,img_channels))\n",
    "    cnn_base = VGG16(input_shape=(img_rows,img_cols,img_channels),weights=\"imagenet\",include_top=False)\n",
    "    \n",
    "    cnn_out = GlobalAveragePooling2D()(cnn_base.output)\n",
    "    cnn = Model(input=cnn_base.input, output=cnn_out)\n",
    "    cnn.trainable = True\n",
    "    encoded_frames = TimeDistributed(cnn)(video)\n",
    "    # Flat the layer  \n",
    "    hidden_layer = TimeDistributed(Flatten())(encoded_frames)   \n",
    "    encoded_sequence = GRU(256,return_sequences=False, dropout = dropout)(hidden_layer)\n",
    "    outputs = Dense(output_dim=nb_classes, activation=\"softmax\")(encoded_sequence)\n",
    "    model = Model([video], outputs)\n",
    "    return model"
   ]
  },
  {
   "cell_type": "code",
   "execution_count": 10,
   "metadata": {},
   "outputs": [
    {
     "name": "stdout",
     "output_type": "stream",
     "text": [
      "Downloading data from https://github.com/fchollet/deep-learning-models/releases/download/v0.1/vgg16_weights_tf_dim_ordering_tf_kernels_notop.h5\n",
      "58892288/58889256 [==============================] - 5s 0us/step\n"
     ]
    },
    {
     "name": "stderr",
     "output_type": "stream",
     "text": [
      "/mnt/disks/user/anaconda3/lib/python3.6/site-packages/ipykernel_launcher.py:8: UserWarning: Update your `Model` call to the Keras 2 API: `Model(inputs=Tensor(\"in..., outputs=Tensor(\"gl...)`\n",
      "  \n",
      "/mnt/disks/user/anaconda3/lib/python3.6/site-packages/ipykernel_launcher.py:21: UserWarning: Update your `Dense` call to the Keras 2 API: `Dense(activation=\"softmax\", units=5)`\n"
     ]
    }
   ],
   "source": [
    "tranferlearning_timedistributed_model = get_tranferlearning_timedistributed_model()"
   ]
  },
  {
   "cell_type": "markdown",
   "metadata": {},
   "source": [
    "Now that you have written the model, the next step is to `compile` the model. When you print the `summary` of the model, you'll see the total number of parameters you have to train."
   ]
  },
  {
   "cell_type": "code",
   "execution_count": 12,
   "metadata": {
    "scrolled": true
   },
   "outputs": [
    {
     "name": "stdout",
     "output_type": "stream",
     "text": [
      "_________________________________________________________________\n",
      "Layer (type)                 Output Shape              Param #   \n",
      "=================================================================\n",
      "input_1 (InputLayer)         (None, 10, 90, 90, 3)     0         \n",
      "_________________________________________________________________\n",
      "time_distributed_1 (TimeDist (None, 10, 512)           14714688  \n",
      "_________________________________________________________________\n",
      "time_distributed_2 (TimeDist (None, 10, 512)           0         \n",
      "_________________________________________________________________\n",
      "gru_1 (GRU)                  (None, 256)               590592    \n",
      "_________________________________________________________________\n",
      "dense_1 (Dense)              (None, 5)                 1285      \n",
      "=================================================================\n",
      "Total params: 15,306,565\n",
      "Trainable params: 15,306,565\n",
      "Non-trainable params: 0\n",
      "_________________________________________________________________\n",
      "None\n"
     ]
    }
   ],
   "source": [
    "optimiser = optimizers.SGD(lr=0.001, decay=1e-6, momentum=0.7, nesterov=True)\n",
    "tranferlearning_timedistributed_model.compile(optimizer=optimiser, loss='categorical_crossentropy', metrics=['categorical_accuracy'])\n",
    "print (tranferlearning_timedistributed_model.summary())"
   ]
  },
  {
   "cell_type": "markdown",
   "metadata": {},
   "source": [
    "Let us create the `train_generator` and the `val_generator` which will be used in `.fit_generator`."
   ]
  },
  {
   "cell_type": "code",
   "execution_count": 14,
   "metadata": {},
   "outputs": [],
   "source": [
    "train_generator = generator(train_path, train_doc, batch_size)\n",
    "val_generator = generator(val_path, val_doc, batch_size)"
   ]
  },
  {
   "cell_type": "code",
   "execution_count": 15,
   "metadata": {},
   "outputs": [],
   "source": [
    "model_name = 'model_init' + '_' + str(curr_dt_time).replace(' ','').replace(':','_') + '/'\n",
    "    \n",
    "if not os.path.exists(model_name):\n",
    "    os.mkdir(model_name)\n",
    "        \n",
    "filepath = model_name + 'model-{epoch:05d}-{loss:.5f}-{categorical_accuracy:.5f}-{val_loss:.5f}-{val_categorical_accuracy:.5f}.h5'\n",
    "\n",
    "checkpoint = ModelCheckpoint(filepath, monitor='val_loss', verbose=1, save_best_only=False, save_weights_only=False, mode='auto', period=1)\n",
    "\n",
    "LR = ReduceLROnPlateau(monitor='val_loss', factor=0.2, verbose=1, patience=3)# write the REducelronplateau code here\n",
    "callbacks_list = [checkpoint, LR]"
   ]
  },
  {
   "cell_type": "markdown",
   "metadata": {},
   "source": [
    "The `steps_per_epoch` and `validation_steps` are used by `fit_generator` to decide the number of next() calls it need to make."
   ]
  },
  {
   "cell_type": "code",
   "execution_count": 16,
   "metadata": {},
   "outputs": [],
   "source": [
    "if (num_train_sequences%batch_size) == 0:\n",
    "    steps_per_epoch = int(num_train_sequences/batch_size)\n",
    "else:\n",
    "    steps_per_epoch = (num_train_sequences//batch_size) + 1\n",
    "\n",
    "if (num_val_sequences%batch_size) == 0:\n",
    "    validation_steps = int(num_val_sequences/batch_size)\n",
    "else:\n",
    "    validation_steps = (num_val_sequences//batch_size) + 1"
   ]
  },
  {
   "cell_type": "markdown",
   "metadata": {},
   "source": [
    "Let us now fit the model. This will start training the model and with the help of the checkpoints, you'll be able to save the model at the end of each epoch."
   ]
  },
  {
   "cell_type": "code",
   "execution_count": 17,
   "metadata": {},
   "outputs": [
    {
     "name": "stdout",
     "output_type": "stream",
     "text": [
      "Source path =  Source path =  ./Project_data/val ; batch size = 10\n",
      "./Project_data/train ; batch size = 10\n",
      "Epoch 1/15\n"
     ]
    },
    {
     "name": "stderr",
     "output_type": "stream",
     "text": [
      "/mnt/disks/user/anaconda3/lib/python3.6/site-packages/skimage/transform/_warps.py:110: UserWarning: Anti-aliasing will be enabled by default in skimage 0.15 to avoid aliasing artifacts when down-sampling images.\n",
      "  warn(\"Anti-aliasing will be enabled by default in skimage 0.15 to \"\n",
      "/mnt/disks/user/anaconda3/lib/python3.6/site-packages/skimage/transform/_warps.py:105: UserWarning: The default mode, 'constant', will be changed to 'reflect' in skimage 0.15.\n",
      "  warn(\"The default mode, 'constant', will be changed to 'reflect' in \"\n"
     ]
    },
    {
     "name": "stdout",
     "output_type": "stream",
     "text": [
      "67/67 [==============================] - 230s 3s/step - loss: 1.5471 - categorical_accuracy: 0.3224 - val_loss: 1.2801 - val_categorical_accuracy: 0.5300\n",
      "\n",
      "Epoch 00001: saving model to model_init_2019-12-2219_49_56.447155/model-00001-1.54707-0.32239-1.28011-0.53000.h5\n",
      "Epoch 2/15\n",
      "67/67 [==============================] - 121s 2s/step - loss: 1.2100 - categorical_accuracy: 0.4940 - val_loss: 0.8832 - val_categorical_accuracy: 0.6800\n",
      "\n",
      "Epoch 00002: saving model to model_init_2019-12-2219_49_56.447155/model-00002-1.20997-0.49403-0.88318-0.68000.h5\n",
      "Epoch 3/15\n",
      "67/67 [==============================] - 132s 2s/step - loss: 0.9438 - categorical_accuracy: 0.6299 - val_loss: 0.7261 - val_categorical_accuracy: 0.6900\n",
      "\n",
      "Epoch 00003: saving model to model_init_2019-12-2219_49_56.447155/model-00003-0.94378-0.62985-0.72607-0.69000.h5\n",
      "Epoch 4/15\n",
      "67/67 [==============================] - 115s 2s/step - loss: 0.6266 - categorical_accuracy: 0.7761 - val_loss: 0.4915 - val_categorical_accuracy: 0.7900\n",
      "\n",
      "Epoch 00004: saving model to model_init_2019-12-2219_49_56.447155/model-00004-0.62657-0.77612-0.49155-0.79000.h5\n",
      "Epoch 5/15\n",
      "67/67 [==============================] - 103s 2s/step - loss: 0.4313 - categorical_accuracy: 0.8269 - val_loss: 0.4716 - val_categorical_accuracy: 0.8100\n",
      "\n",
      "Epoch 00005: saving model to model_init_2019-12-2219_49_56.447155/model-00005-0.43126-0.82687-0.47165-0.81000.h5\n",
      "Epoch 6/15\n",
      "67/67 [==============================] - 105s 2s/step - loss: 0.3495 - categorical_accuracy: 0.8731 - val_loss: 0.6668 - val_categorical_accuracy: 0.7500\n",
      "\n",
      "Epoch 00006: saving model to model_init_2019-12-2219_49_56.447155/model-00006-0.34952-0.87313-0.66681-0.75000.h5\n",
      "Epoch 7/15\n",
      "67/67 [==============================] - 108s 2s/step - loss: 0.3201 - categorical_accuracy: 0.8806 - val_loss: 0.6329 - val_categorical_accuracy: 0.8200\n",
      "\n",
      "Epoch 00007: saving model to model_init_2019-12-2219_49_56.447155/model-00007-0.32013-0.88060-0.63291-0.82000.h5\n",
      "Epoch 8/15\n",
      "67/67 [==============================] - 104s 2s/step - loss: 0.2349 - categorical_accuracy: 0.9284 - val_loss: 0.4807 - val_categorical_accuracy: 0.8000\n",
      "\n",
      "Epoch 00008: saving model to model_init_2019-12-2219_49_56.447155/model-00008-0.23487-0.92836-0.48075-0.80000.h5\n",
      "\n",
      "Epoch 00008: ReduceLROnPlateau reducing learning rate to 0.00020000000949949026.\n",
      "Epoch 9/15\n",
      "67/67 [==============================] - 130s 2s/step - loss: 0.1495 - categorical_accuracy: 0.9552 - val_loss: 0.4393 - val_categorical_accuracy: 0.8600\n",
      "\n",
      "Epoch 00009: saving model to model_init_2019-12-2219_49_56.447155/model-00009-0.14951-0.95522-0.43931-0.86000.h5\n",
      "Epoch 10/15\n",
      "67/67 [==============================] - 133s 2s/step - loss: 0.1279 - categorical_accuracy: 0.9642 - val_loss: 0.4527 - val_categorical_accuracy: 0.8700\n",
      "\n",
      "Epoch 00010: saving model to model_init_2019-12-2219_49_56.447155/model-00010-0.12791-0.96418-0.45267-0.87000.h5\n",
      "Epoch 11/15\n",
      "67/67 [==============================] - 112s 2s/step - loss: 0.1245 - categorical_accuracy: 0.9642 - val_loss: 0.4647 - val_categorical_accuracy: 0.8500\n",
      "\n",
      "Epoch 00011: saving model to model_init_2019-12-2219_49_56.447155/model-00011-0.12449-0.96418-0.46469-0.85000.h5\n",
      "Epoch 12/15\n",
      "67/67 [==============================] - 136s 2s/step - loss: 0.1040 - categorical_accuracy: 0.9687 - val_loss: 0.4880 - val_categorical_accuracy: 0.8600\n",
      "\n",
      "Epoch 00012: saving model to model_init_2019-12-2219_49_56.447155/model-00012-0.10396-0.96866-0.48797-0.86000.h5\n",
      "\n",
      "Epoch 00012: ReduceLROnPlateau reducing learning rate to 4.0000001899898055e-05.\n",
      "Epoch 13/15\n",
      "67/67 [==============================] - 106s 2s/step - loss: 0.0894 - categorical_accuracy: 0.9806 - val_loss: 0.4646 - val_categorical_accuracy: 0.8800\n",
      "\n",
      "Epoch 00013: saving model to model_init_2019-12-2219_49_56.447155/model-00013-0.08939-0.98060-0.46465-0.88000.h5\n",
      "Epoch 14/15\n",
      "67/67 [==============================] - 105s 2s/step - loss: 0.0886 - categorical_accuracy: 0.9746 - val_loss: 0.4737 - val_categorical_accuracy: 0.8900\n",
      "\n",
      "Epoch 00014: saving model to model_init_2019-12-2219_49_56.447155/model-00014-0.08859-0.97463-0.47371-0.89000.h5\n",
      "Epoch 15/15\n",
      "67/67 [==============================] - 108s 2s/step - loss: 0.0833 - categorical_accuracy: 0.9866 - val_loss: 0.4782 - val_categorical_accuracy: 0.8800\n",
      "\n",
      "Epoch 00015: saving model to model_init_2019-12-2219_49_56.447155/model-00015-0.08331-0.98657-0.47818-0.88000.h5\n",
      "\n",
      "Epoch 00015: ReduceLROnPlateau reducing learning rate to 8.000000525498762e-06.\n"
     ]
    },
    {
     "data": {
      "text/plain": [
       "<keras.callbacks.History at 0x7fb49836a7b8>"
      ]
     },
     "execution_count": 17,
     "metadata": {},
     "output_type": "execute_result"
    }
   ],
   "source": [
    "tranferlearning_timedistributed_model.fit_generator(train_generator, steps_per_epoch=steps_per_epoch, epochs=num_epochs, verbose=1, \n",
    "                    callbacks=callbacks_list, validation_data=val_generator, \n",
    "                    validation_steps=validation_steps, class_weight=None, workers=1, initial_epoch=0)"
   ]
  },
  {
   "cell_type": "markdown",
   "metadata": {},
   "source": [
    "#### Accuracy on train data obtained is 98%, whereas accuracy on validation data obtained is 89%.\n",
    "\n",
    "#### Now we build a CNN model\n",
    "### CNN"
   ]
  },
  {
   "cell_type": "code",
   "execution_count": 7,
   "metadata": {},
   "outputs": [],
   "source": [
    "def generator(source_path, folder_list, batch_size):\n",
    "    print( 'Source path = ', source_path, '; batch size =', batch_size)\n",
    "    img_idx = [1,2,3,4,6,8,10,12,14,16,18,20,22,24,26,27,28,29]\n",
    "    x = 18 #frames\n",
    "    y = 90 #width of resized image\n",
    "    z = 90 #height of resized image\n",
    "    while True:\n",
    "        t = np.random.permutation(folder_list)\n",
    "        num_batches = int( len(t) / batch_size )\n",
    "        for batch in range(num_batches): # we iterate over the number of batches\n",
    "            batch_data = np.zeros((batch_size,x,y,z,3)) # x is the number of images you use for each video, (y,z) is the final size of the input images and 3 is the number of channels RGB\n",
    "            batch_labels = np.zeros((batch_size,5)) # batch_labels is the one hot representation of the output\n",
    "            for folder in range(batch_size): # iterate over the batch_size\n",
    "                imgs = os.listdir(source_path+'/'+ t[folder + (batch*batch_size)].split(';')[0]) # read all the images in the folder\n",
    "                for idx,item in enumerate(img_idx): #  Iterate iver the frames/images of a folder to read them in\n",
    "                    image = imread(source_path+'/'+ t[folder + (batch*batch_size)].strip().split(';')[0]+'/'+imgs[item]).astype(np.float32)\n",
    "                    \n",
    "                    if image.shape[1] == 160:\n",
    "                        # converting this image to 1:1 aspect ratio, then resizing\n",
    "                        image = resize(image[:,20:140,:],(y,z)).astype(np.float32)\n",
    "                    else:\n",
    "                        image = resize(image,(y,z)).astype(np.float32)\n",
    "                    \n",
    "                    #normalising and feeding image into batch_data channel by channel\n",
    "                    \n",
    "                    batch_data[folder,idx,:,:,0] = [[float(i)/255 for i in row] for row in image[:,:,0]]\n",
    "                    batch_data[folder,idx,:,:,1] = [[float(i)/255 for i in row] for row in image[:,:,1]]\n",
    "                    batch_data[folder,idx,:,:,2] = [[float(i)/255 for i in row] for row in image[:,:,2]]\n",
    "                    \n",
    "                batch_labels[folder, int(t[folder + (batch*batch_size)].strip().split(';')[2])] = 1\n",
    "            yield batch_data, batch_labels #you yield the batch_data and the batch_labels, remember what does yield do\n",
    "        \n",
    "        #if there existing images not covered above\n",
    "        if(len(t)%batch_size)!=0:\n",
    "            #repeating the above steps for remaining images\n",
    "            batch_data = np.zeros((len(t)%batch_size,x,y,z,3)) # x is the number of images you use for each video, (y,z) is the final size of the input images and 3 is the number of channels RGB\n",
    "            batch_labels = np.zeros((len(t)%batch_size,5)) # batch_labels is the one hot representation of the output\n",
    "            for folder in range(len(t)%batch_size): # iterate over the batch_size\n",
    "                imgs = os.listdir(source_path+'/'+ t[folder + (batch*batch_size)].split(';')[0]) # read all the images in the folder\n",
    "                for idx,item in enumerate(img_idx): #  Iterate iver the frames/images of a folder to read them in\n",
    "                    image = imread(source_path+'/'+ t[folder + (batch*batch_size)].strip().split(';')[0]+'/'+imgs[item]).astype(np.float32)\n",
    "                    \n",
    "                    if image.shape[1] == 160:\n",
    "                        # converting this image to 1:1 aspect ratio, then resizing\n",
    "                        image = resize(image[:,20:140,:],(y,z)).astype(np.float32)\n",
    "                    else:\n",
    "                        image = resize(image,(y,z)).astype(np.float32)\n",
    "                    \n",
    "                    #normalising and feeding image into batch_data channel by channel\n",
    "                    batch_data[folder,idx,:,:,0] = [[float(i)/255 for i in row] for row in image[:,:,0]]\n",
    "                    batch_data[folder,idx,:,:,1] = [[float(i)/255 for i in row] for row in image[:,:,1]]\n",
    "                    batch_data[folder,idx,:,:,2] = [[float(i)/255 for i in row] for row in image[:,:,2]]\n",
    "                    \n",
    "                batch_labels[folder, int(t[folder + (num_batches*batch_size)].strip().split(';')[2])] = 1\n",
    "            yield batch_data, batch_labels #you yield the batch_data and the batch_labels, remember what does yield do"
   ]
  },
  {
   "cell_type": "code",
   "execution_count": 8,
   "metadata": {},
   "outputs": [
    {
     "name": "stdout",
     "output_type": "stream",
     "text": [
      "# training sequences = 663\n",
      "# validation sequences = 100\n",
      "# epochs = 60\n"
     ]
    }
   ],
   "source": [
    "curr_dt_time = datetime.datetime.now()\n",
    "train_path = 'Project_data/train'\n",
    "val_path = 'Project_data/val'\n",
    "num_train_sequences = len(train_doc)\n",
    "print('# training sequences =', num_train_sequences)\n",
    "num_val_sequences = len(val_doc)\n",
    "print('# validation sequences =', num_val_sequences)\n",
    "num_epochs = 60\n",
    "print ('# epochs =', num_epochs)"
   ]
  },
  {
   "cell_type": "code",
   "execution_count": 9,
   "metadata": {},
   "outputs": [],
   "source": [
    "from keras.models import Sequential, Model\n",
    "from keras.layers import Dense, Dropout, GRU, Flatten, TimeDistributed, Flatten, BatchNormalization, Activation\n",
    "from keras.layers.convolutional import Conv3D, MaxPooling3D\n",
    "from keras.callbacks import ModelCheckpoint, ReduceLROnPlateau\n",
    "from keras import optimizers"
   ]
  },
  {
   "cell_type": "code",
   "execution_count": 10,
   "metadata": {},
   "outputs": [],
   "source": [
    "model = Sequential()\n",
    "model.add(Conv3D(32, (3,3,3), strides=(1,1,1), padding='same', input_shape=(18,90,90,3)))\n",
    "model.add(BatchNormalization())\n",
    "model.add(Activation('elu'))\n",
    "model.add(MaxPooling3D(pool_size=(2,2,1), strides=(2,2,1)))\n",
    "\n",
    "model.add(Conv3D(64, (3,3,3), strides=(1,1,1), padding='same'))\n",
    "model.add(BatchNormalization())\n",
    "model.add(Activation('elu'))\n",
    "model.add(MaxPooling3D(pool_size=(2,2,2), strides=(2,2,2)))\n",
    "\n",
    "model.add(Conv3D(128, (3,3,3), strides=(1,1,1), padding='same'))\n",
    "model.add(BatchNormalization())\n",
    "model.add(Activation('elu'))\n",
    "model.add(MaxPooling3D(pool_size=(2,2,2), strides=(2,2,2)))\n",
    "\n",
    "model.add(Conv3D(256, (3,3,3), strides=(1,1,1), padding='same'))\n",
    "model.add(BatchNormalization())\n",
    "model.add(Activation('elu'))\n",
    "model.add(MaxPooling3D(pool_size=(2,2,2), strides=(2,2,2)))\n",
    "\n",
    "model.add(Flatten())\n",
    "model.add(Dropout(0.5))\n",
    "model.add(Dense(512, activation='elu'))\n",
    "model.add(Dropout(0.5))\n",
    "model.add(Dense(5, activation='softmax'))"
   ]
  },
  {
   "cell_type": "markdown",
   "metadata": {},
   "source": [
    "Now that you have written the model, the next step is to `compile` the model. When you print the `summary` of the model, you'll see the total number of parameters you have to train."
   ]
  },
  {
   "cell_type": "code",
   "execution_count": 11,
   "metadata": {
    "scrolled": true
   },
   "outputs": [
    {
     "name": "stdout",
     "output_type": "stream",
     "text": [
      "_________________________________________________________________\n",
      "Layer (type)                 Output Shape              Param #   \n",
      "=================================================================\n",
      "conv3d_1 (Conv3D)            (None, 18, 90, 90, 32)    2624      \n",
      "_________________________________________________________________\n",
      "batch_normalization_1 (Batch (None, 18, 90, 90, 32)    128       \n",
      "_________________________________________________________________\n",
      "activation_1 (Activation)    (None, 18, 90, 90, 32)    0         \n",
      "_________________________________________________________________\n",
      "max_pooling3d_1 (MaxPooling3 (None, 9, 45, 90, 32)     0         \n",
      "_________________________________________________________________\n",
      "conv3d_2 (Conv3D)            (None, 9, 45, 90, 64)     55360     \n",
      "_________________________________________________________________\n",
      "batch_normalization_2 (Batch (None, 9, 45, 90, 64)     256       \n",
      "_________________________________________________________________\n",
      "activation_2 (Activation)    (None, 9, 45, 90, 64)     0         \n",
      "_________________________________________________________________\n",
      "max_pooling3d_2 (MaxPooling3 (None, 4, 22, 45, 64)     0         \n",
      "_________________________________________________________________\n",
      "conv3d_3 (Conv3D)            (None, 4, 22, 45, 128)    221312    \n",
      "_________________________________________________________________\n",
      "batch_normalization_3 (Batch (None, 4, 22, 45, 128)    512       \n",
      "_________________________________________________________________\n",
      "activation_3 (Activation)    (None, 4, 22, 45, 128)    0         \n",
      "_________________________________________________________________\n",
      "max_pooling3d_3 (MaxPooling3 (None, 2, 11, 22, 128)    0         \n",
      "_________________________________________________________________\n",
      "conv3d_4 (Conv3D)            (None, 2, 11, 22, 256)    884992    \n",
      "_________________________________________________________________\n",
      "batch_normalization_4 (Batch (None, 2, 11, 22, 256)    1024      \n",
      "_________________________________________________________________\n",
      "activation_4 (Activation)    (None, 2, 11, 22, 256)    0         \n",
      "_________________________________________________________________\n",
      "max_pooling3d_4 (MaxPooling3 (None, 1, 5, 11, 256)     0         \n",
      "_________________________________________________________________\n",
      "flatten_1 (Flatten)          (None, 14080)             0         \n",
      "_________________________________________________________________\n",
      "dropout_1 (Dropout)          (None, 14080)             0         \n",
      "_________________________________________________________________\n",
      "dense_1 (Dense)              (None, 512)               7209472   \n",
      "_________________________________________________________________\n",
      "dropout_2 (Dropout)          (None, 512)               0         \n",
      "_________________________________________________________________\n",
      "dense_2 (Dense)              (None, 5)                 2565      \n",
      "=================================================================\n",
      "Total params: 8,378,245\n",
      "Trainable params: 8,377,285\n",
      "Non-trainable params: 960\n",
      "_________________________________________________________________\n",
      "None\n"
     ]
    }
   ],
   "source": [
    "optimiser = optimizers.SGD(lr=0.001, decay=1e-6, momentum=0.7, nesterov=True)\n",
    "model.compile(optimizer=optimiser, loss='categorical_crossentropy', metrics=['categorical_accuracy'])\n",
    "print (model.summary())"
   ]
  },
  {
   "cell_type": "markdown",
   "metadata": {},
   "source": [
    "Let us create the `train_generator` and the `val_generator` which will be used in `.fit_generator`."
   ]
  },
  {
   "cell_type": "code",
   "execution_count": 12,
   "metadata": {},
   "outputs": [],
   "source": [
    "train_generator = generator(train_path, train_doc, batch_size)\n",
    "val_generator = generator(val_path, val_doc, batch_size)\n",
    "batch_size = 10 "
   ]
  },
  {
   "cell_type": "code",
   "execution_count": 13,
   "metadata": {},
   "outputs": [
    {
     "name": "stderr",
     "output_type": "stream",
     "text": [
      "/mnt/disks/user/anaconda3/lib/python3.6/site-packages/keras/callbacks.py:999: UserWarning: `epsilon` argument is deprecated and will be removed, use `min_delta` instead.\n",
      "  warnings.warn('`epsilon` argument is deprecated and '\n"
     ]
    }
   ],
   "source": [
    "model_name = 'model_init' + '_' + str(curr_dt_time).replace(' ','').replace(':','_') + '/'\n",
    "    \n",
    "if not os.path.exists(model_name):\n",
    "    os.mkdir(model_name)\n",
    "        \n",
    "filepath = model_name + 'model-{epoch:05d}-{loss:.5f}-{categorical_accuracy:.5f}-{val_loss:.5f}-{val_categorical_accuracy:.5f}.h5'\n",
    "\n",
    "checkpoint = ModelCheckpoint(filepath, monitor='val_loss', verbose=1, save_best_only=False, save_weights_only=False, mode='auto', period=1)\n",
    "\n",
    "LR = ReduceLROnPlateau(monitor='val_loss', factor=0.5, patience=2, verbose=1, mode='min', epsilon=0.0001, cooldown=0, min_lr=0.00001)\n",
    "callbacks_list = [checkpoint, LR]"
   ]
  },
  {
   "cell_type": "markdown",
   "metadata": {},
   "source": [
    "The `steps_per_epoch` and `validation_steps` are used by `fit_generator` to decide the number of next() calls it need to make."
   ]
  },
  {
   "cell_type": "code",
   "execution_count": 14,
   "metadata": {},
   "outputs": [],
   "source": [
    "if (num_train_sequences%batch_size) == 0:\n",
    "    steps_per_epoch = int(num_train_sequences/batch_size)\n",
    "else:\n",
    "    steps_per_epoch = (num_train_sequences//batch_size) + 1\n",
    "\n",
    "if (num_val_sequences%batch_size) == 0:\n",
    "    validation_steps = int(num_val_sequences/batch_size)\n",
    "else:\n",
    "    validation_steps = (num_val_sequences//batch_size) + 1"
   ]
  },
  {
   "cell_type": "code",
   "execution_count": 16,
   "metadata": {},
   "outputs": [
    {
     "name": "stdout",
     "output_type": "stream",
     "text": [
      "Source path =  Project_data/val ; batch size = 16\n",
      "Source path =  Project_data/train ; batch size = 16\n",
      "Epoch 1/60\n"
     ]
    },
    {
     "name": "stderr",
     "output_type": "stream",
     "text": [
      "/mnt/disks/user/anaconda3/lib/python3.6/site-packages/skimage/transform/_warps.py:105: UserWarning: The default mode, 'constant', will be changed to 'reflect' in skimage 0.15.\n",
      "  warn(\"The default mode, 'constant', will be changed to 'reflect' in \"\n",
      "/mnt/disks/user/anaconda3/lib/python3.6/site-packages/skimage/transform/_warps.py:110: UserWarning: Anti-aliasing will be enabled by default in skimage 0.15 to avoid aliasing artifacts when down-sampling images.\n",
      "  warn(\"Anti-aliasing will be enabled by default in skimage 0.15 to \"\n"
     ]
    },
    {
     "name": "stdout",
     "output_type": "stream",
     "text": [
      "42/42 [==============================] - 208s 5s/step - loss: 3.3108 - categorical_accuracy: 0.3625 - val_loss: 1.6683 - val_categorical_accuracy: 0.5500\n",
      "\n",
      "Epoch 00001: saving model to model_init_2019-12-2212_33_12.571471/model-00001-3.31085-0.36350-1.66827-0.55000.h5\n",
      "Epoch 2/60\n",
      "42/42 [==============================] - 202s 5s/step - loss: 1.9389 - categorical_accuracy: 0.4380 - val_loss: 1.1902 - val_categorical_accuracy: 0.5600\n",
      "\n",
      "Epoch 00002: saving model to model_init_2019-12-2212_33_12.571471/model-00002-1.89331-0.44193-1.19015-0.56000.h5\n",
      "Epoch 3/60\n",
      "42/42 [==============================] - 192s 5s/step - loss: 1.4991 - categorical_accuracy: 0.5076 - val_loss: 1.5731 - val_categorical_accuracy: 0.4500\n",
      "\n",
      "Epoch 00003: saving model to model_init_2019-12-2212_33_12.571471/model-00003-1.43880-0.51433-1.57306-0.45000.h5\n",
      "Epoch 4/60\n",
      "42/42 [==============================] - 188s 4s/step - loss: 1.1687 - categorical_accuracy: 0.5783 - val_loss: 1.0332 - val_categorical_accuracy: 0.6500\n",
      "\n",
      "Epoch 00004: saving model to model_init_2019-12-2212_33_12.571471/model-00004-1.14406-0.58220-1.03321-0.65000.h5\n",
      "Epoch 5/60\n",
      "42/42 [==============================] - 173s 4s/step - loss: 1.1285 - categorical_accuracy: 0.6152 - val_loss: 0.9936 - val_categorical_accuracy: 0.6600\n",
      "\n",
      "Epoch 00005: saving model to model_init_2019-12-2212_33_12.571471/model-00005-1.09904-0.62142-0.99358-0.66000.h5\n",
      "Epoch 6/60\n",
      "42/42 [==============================] - 218s 5s/step - loss: 1.0268 - categorical_accuracy: 0.6498 - val_loss: 1.0521 - val_categorical_accuracy: 0.6900\n",
      "\n",
      "Epoch 00006: saving model to model_init_2019-12-2212_33_12.571471/model-00006-0.97595-0.65460-1.05211-0.69000.h5\n",
      "Epoch 7/60\n",
      "42/42 [==============================] - 215s 5s/step - loss: 0.8942 - categorical_accuracy: 0.6996 - val_loss: 1.0998 - val_categorical_accuracy: 0.6000\n",
      "\n",
      "Epoch 00007: saving model to model_init_2019-12-2212_33_12.571471/model-00007-0.84419-0.70890-1.09982-0.60000.h5\n",
      "\n",
      "Epoch 00007: ReduceLROnPlateau reducing learning rate to 0.0005000000237487257.\n",
      "Epoch 8/60\n",
      "42/42 [==============================] - 174s 4s/step - loss: 0.9057 - categorical_accuracy: 0.6944 - val_loss: 0.7366 - val_categorical_accuracy: 0.7400\n",
      "\n",
      "Epoch 00008: saving model to model_init_2019-12-2212_33_12.571471/model-00008-0.84648-0.69985-0.73657-0.74000.h5\n",
      "Epoch 9/60\n",
      "42/42 [==============================] - 174s 4s/step - loss: 0.7556 - categorical_accuracy: 0.7555 - val_loss: 0.6918 - val_categorical_accuracy: 0.7400\n",
      "\n",
      "Epoch 00009: saving model to model_init_2019-12-2212_33_12.571471/model-00009-0.70208-0.76169-0.69176-0.74000.h5\n",
      "Epoch 10/60\n",
      "42/42 [==============================] - 218s 5s/step - loss: 0.6864 - categorical_accuracy: 0.7476 - val_loss: 0.7934 - val_categorical_accuracy: 0.7500\n",
      "\n",
      "Epoch 00010: saving model to model_init_2019-12-2212_33_12.571471/model-00010-0.65598-0.75566-0.79340-0.75000.h5\n",
      "Epoch 11/60\n",
      "42/42 [==============================] - 208s 5s/step - loss: 0.6990 - categorical_accuracy: 0.7696 - val_loss: 0.8404 - val_categorical_accuracy: 0.7100\n",
      "\n",
      "Epoch 00011: saving model to model_init_2019-12-2212_33_12.571471/model-00011-0.62290-0.77979-0.84041-0.71000.h5\n",
      "\n",
      "Epoch 00011: ReduceLROnPlateau reducing learning rate to 0.0002500000118743628.\n",
      "Epoch 12/60\n",
      "42/42 [==============================] - 214s 5s/step - loss: 0.7301 - categorical_accuracy: 0.7551 - val_loss: 0.8058 - val_categorical_accuracy: 0.7100\n",
      "\n",
      "Epoch 00012: saving model to model_init_2019-12-2212_33_12.571471/model-00012-0.64639-0.76320-0.80584-0.71000.h5\n",
      "Epoch 13/60\n",
      "42/42 [==============================] - 167s 4s/step - loss: 0.6911 - categorical_accuracy: 0.7774 - val_loss: 0.7911 - val_categorical_accuracy: 0.7300\n",
      "\n",
      "Epoch 00013: saving model to model_init_2019-12-2212_33_12.571471/model-00013-0.62862-0.78582-0.79110-0.73000.h5\n",
      "\n",
      "Epoch 00013: ReduceLROnPlateau reducing learning rate to 0.0001250000059371814.\n",
      "Epoch 14/60\n",
      "42/42 [==============================] - 210s 5s/step - loss: 0.6556 - categorical_accuracy: 0.7748 - val_loss: 0.7602 - val_categorical_accuracy: 0.7600\n",
      "\n",
      "Epoch 00014: saving model to model_init_2019-12-2212_33_12.571471/model-00014-0.59766-0.78130-0.76023-0.76000.h5\n",
      "Epoch 15/60\n",
      "42/42 [==============================] - 193s 5s/step - loss: 0.6156 - categorical_accuracy: 0.7997 - val_loss: 0.9609 - val_categorical_accuracy: 0.7300\n",
      "\n",
      "Epoch 00015: saving model to model_init_2019-12-2212_33_12.571471/model-00015-0.54536-0.80845-0.96085-0.73000.h5\n",
      "\n",
      "Epoch 00015: ReduceLROnPlateau reducing learning rate to 6.25000029685907e-05.\n",
      "Epoch 16/60\n",
      "42/42 [==============================] - 177s 4s/step - loss: 0.5591 - categorical_accuracy: 0.8065 - val_loss: 0.7342 - val_categorical_accuracy: 0.7300\n",
      "\n",
      "Epoch 00016: saving model to model_init_2019-12-2212_33_12.571471/model-00016-0.52808-0.81146-0.73419-0.73000.h5\n",
      "Epoch 17/60\n",
      "42/42 [==============================] - 198s 5s/step - loss: 0.6755 - categorical_accuracy: 0.7744 - val_loss: 0.6753 - val_categorical_accuracy: 0.7300\n",
      "\n",
      "Epoch 00017: saving model to model_init_2019-12-2212_33_12.571471/model-00017-0.59124-0.78281-0.67532-0.73000.h5\n",
      "Epoch 18/60\n",
      "42/42 [==============================] - 234s 6s/step - loss: 0.6268 - categorical_accuracy: 0.7834 - val_loss: 0.6021 - val_categorical_accuracy: 0.7400\n",
      "\n",
      "Epoch 00018: saving model to model_init_2019-12-2212_33_12.571471/model-00018-0.57138-0.79186-0.60214-0.74000.h5\n",
      "Epoch 19/60\n",
      "42/42 [==============================] - 174s 4s/step - loss: 0.6309 - categorical_accuracy: 0.7893 - val_loss: 0.7957 - val_categorical_accuracy: 0.7500\n",
      "\n",
      "Epoch 00019: saving model to model_init_2019-12-2212_33_12.571471/model-00019-0.55677-0.79789-0.79569-0.75000.h5\n",
      "Epoch 20/60\n",
      "42/42 [==============================] - 180s 4s/step - loss: 0.5702 - categorical_accuracy: 0.7960 - val_loss: 0.7029 - val_categorical_accuracy: 0.7600\n",
      "\n",
      "Epoch 00020: saving model to model_init_2019-12-2212_33_12.571471/model-00020-0.52183-0.80090-0.70287-0.76000.h5\n",
      "\n",
      "Epoch 00020: ReduceLROnPlateau reducing learning rate to 3.125000148429535e-05.\n",
      "Epoch 21/60\n",
      "42/42 [==============================] - 236s 6s/step - loss: 0.5614 - categorical_accuracy: 0.7983 - val_loss: 0.6101 - val_categorical_accuracy: 0.7700\n",
      "\n",
      "Epoch 00021: saving model to model_init_2019-12-2212_33_12.571471/model-00021-0.51157-0.80694-0.61011-0.77000.h5\n",
      "Epoch 22/60\n",
      "42/42 [==============================] - 176s 4s/step - loss: 0.5238 - categorical_accuracy: 0.8161 - val_loss: 0.6692 - val_categorical_accuracy: 0.7400\n",
      "\n",
      "Epoch 00022: saving model to model_init_2019-12-2212_33_12.571471/model-00022-0.47321-0.82504-0.66917-0.74000.h5\n",
      "\n",
      "Epoch 00022: ReduceLROnPlateau reducing learning rate to 1.5625000742147677e-05.\n",
      "Epoch 23/60\n",
      "42/42 [==============================] - 176s 4s/step - loss: 0.6079 - categorical_accuracy: 0.8031 - val_loss: 0.6597 - val_categorical_accuracy: 0.7200\n",
      "\n",
      "Epoch 00023: saving model to model_init_2019-12-2212_33_12.571471/model-00023-0.52855-0.80995-0.65975-0.72000.h5\n",
      "Epoch 24/60\n",
      "42/42 [==============================] - 243s 6s/step - loss: 0.5422 - categorical_accuracy: 0.8120 - val_loss: 0.6454 - val_categorical_accuracy: 0.7500\n",
      "\n",
      "Epoch 00024: saving model to model_init_2019-12-2212_33_12.571471/model-00024-0.49023-0.81900-0.64540-0.75000.h5\n",
      "\n",
      "Epoch 00024: ReduceLROnPlateau reducing learning rate to 1e-05.\n",
      "Epoch 25/60\n",
      "42/42 [==============================] - 206s 5s/step - loss: 0.6066 - categorical_accuracy: 0.8262 - val_loss: 0.7554 - val_categorical_accuracy: 0.7500\n",
      "\n",
      "Epoch 00025: saving model to model_init_2019-12-2212_33_12.571471/model-00025-0.51284-0.83710-0.75538-0.75000.h5\n",
      "Epoch 26/60\n",
      "42/42 [==============================] - 240s 6s/step - loss: 0.6034 - categorical_accuracy: 0.8102 - val_loss: 0.7079 - val_categorical_accuracy: 0.7400\n",
      "\n",
      "Epoch 00026: saving model to model_init_2019-12-2212_33_12.571471/model-00026-0.52065-0.81900-0.70786-0.74000.h5\n",
      "Epoch 27/60\n",
      "42/42 [==============================] - 175s 4s/step - loss: 0.5480 - categorical_accuracy: 0.8061 - val_loss: 0.7837 - val_categorical_accuracy: 0.7400\n",
      "\n",
      "Epoch 00027: saving model to model_init_2019-12-2212_33_12.571471/model-00027-0.50943-0.81297-0.78375-0.74000.h5\n",
      "Epoch 28/60\n",
      "42/42 [==============================] - 217s 5s/step - loss: 0.6572 - categorical_accuracy: 0.8113 - val_loss: 0.5558 - val_categorical_accuracy: 0.7400\n",
      "\n",
      "Epoch 00028: saving model to model_init_2019-12-2212_33_12.571471/model-00028-0.54615-0.82202-0.55580-0.74000.h5\n",
      "Epoch 29/60\n",
      "42/42 [==============================] - 226s 5s/step - loss: 0.5495 - categorical_accuracy: 0.8195 - val_loss: 0.7053 - val_categorical_accuracy: 0.7500\n",
      "\n",
      "Epoch 00029: saving model to model_init_2019-12-2212_33_12.571471/model-00029-0.49833-0.82655-0.70528-0.75000.h5\n",
      "Epoch 30/60\n",
      "42/42 [==============================] - 194s 5s/step - loss: 0.5251 - categorical_accuracy: 0.8142 - val_loss: 0.6872 - val_categorical_accuracy: 0.7600\n",
      "\n",
      "Epoch 00030: saving model to model_init_2019-12-2212_33_12.571471/model-00030-0.48053-0.82504-0.68725-0.76000.h5\n",
      "Epoch 31/60\n",
      "42/42 [==============================] - 223s 5s/step - loss: 0.5090 - categorical_accuracy: 0.8280 - val_loss: 0.6983 - val_categorical_accuracy: 0.7700\n",
      "\n",
      "Epoch 00031: saving model to model_init_2019-12-2212_33_12.571471/model-00031-0.44725-0.83710-0.69829-0.77000.h5\n",
      "Epoch 32/60\n",
      "42/42 [==============================] - 175s 4s/step - loss: 0.4918 - categorical_accuracy: 0.8507 - val_loss: 0.7782 - val_categorical_accuracy: 0.7600\n",
      "\n",
      "Epoch 00032: saving model to model_init_2019-12-2212_33_12.571471/model-00032-0.43926-0.85822-0.77821-0.76000.h5\n",
      "Epoch 33/60\n",
      "42/42 [==============================] - 233s 6s/step - loss: 0.5926 - categorical_accuracy: 0.8102 - val_loss: 0.6488 - val_categorical_accuracy: 0.7700\n",
      "\n",
      "Epoch 00033: saving model to model_init_2019-12-2212_33_12.571471/model-00033-0.52784-0.81900-0.64880-0.77000.h5\n",
      "Epoch 34/60\n",
      "42/42 [==============================] - 188s 4s/step - loss: 0.5709 - categorical_accuracy: 0.8191 - val_loss: 0.6738 - val_categorical_accuracy: 0.7500\n",
      "\n",
      "Epoch 00034: saving model to model_init_2019-12-2212_33_12.571471/model-00034-0.50031-0.82805-0.67379-0.75000.h5\n",
      "Epoch 35/60\n",
      "42/42 [==============================] - 241s 6s/step - loss: 0.5988 - categorical_accuracy: 0.8098 - val_loss: 0.7399 - val_categorical_accuracy: 0.7600\n",
      "\n",
      "Epoch 00035: saving model to model_init_2019-12-2212_33_12.571471/model-00035-0.51679-0.82051-0.73986-0.76000.h5\n",
      "Epoch 36/60\n",
      "42/42 [==============================] - 225s 5s/step - loss: 0.5618 - categorical_accuracy: 0.7945 - val_loss: 0.5976 - val_categorical_accuracy: 0.7500\n",
      "\n",
      "Epoch 00036: saving model to model_init_2019-12-2212_33_12.571471/model-00036-0.51173-0.79940-0.59757-0.75000.h5\n",
      "Epoch 37/60\n",
      "42/42 [==============================] - 207s 5s/step - loss: 0.5004 - categorical_accuracy: 0.8280 - val_loss: 0.6090 - val_categorical_accuracy: 0.7600\n",
      "\n",
      "Epoch 00037: saving model to model_init_2019-12-2212_33_12.571471/model-00037-0.45622-0.83710-0.60902-0.76000.h5\n",
      "Epoch 38/60\n",
      "42/42 [==============================] - 200s 5s/step - loss: 0.4947 - categorical_accuracy: 0.8199 - val_loss: 0.6663 - val_categorical_accuracy: 0.7400\n",
      "\n",
      "Epoch 00038: saving model to model_init_2019-12-2212_33_12.571471/model-00038-0.46971-0.82504-0.66632-0.74000.h5\n",
      "Epoch 39/60\n",
      "42/42 [==============================] - 180s 4s/step - loss: 0.5599 - categorical_accuracy: 0.8116 - val_loss: 0.6787 - val_categorical_accuracy: 0.7500\n",
      "\n",
      "Epoch 00039: saving model to model_init_2019-12-2212_33_12.571471/model-00039-0.48606-0.82051-0.67874-0.75000.h5\n",
      "Epoch 40/60\n",
      "42/42 [==============================] - 218s 5s/step - loss: 0.6038 - categorical_accuracy: 0.8291 - val_loss: 0.7773 - val_categorical_accuracy: 0.7200\n",
      "\n",
      "Epoch 00040: saving model to model_init_2019-12-2212_33_12.571471/model-00040-0.48917-0.84012-0.77732-0.72000.h5\n",
      "Epoch 41/60\n",
      "42/42 [==============================] - 194s 5s/step - loss: 0.5694 - categorical_accuracy: 0.8172 - val_loss: 0.6042 - val_categorical_accuracy: 0.7500\n",
      "\n",
      "Epoch 00041: saving model to model_init_2019-12-2212_33_12.571471/model-00041-0.51093-0.82805-0.60418-0.75000.h5\n",
      "Epoch 42/60\n",
      "42/42 [==============================] - 195s 5s/step - loss: 0.5140 - categorical_accuracy: 0.8150 - val_loss: 0.6638 - val_categorical_accuracy: 0.7300\n",
      "\n",
      "Epoch 00042: saving model to model_init_2019-12-2212_33_12.571471/model-00042-0.46866-0.82202-0.66376-0.73000.h5\n",
      "Epoch 43/60\n",
      "42/42 [==============================] - 187s 4s/step - loss: 0.5710 - categorical_accuracy: 0.8105 - val_loss: 0.5528 - val_categorical_accuracy: 0.7700\n",
      "\n",
      "Epoch 00043: saving model to model_init_2019-12-2212_33_12.571471/model-00043-0.50890-0.81750-0.55278-0.77000.h5\n",
      "Epoch 44/60\n",
      "42/42 [==============================] - 179s 4s/step - loss: 0.5775 - categorical_accuracy: 0.8050 - val_loss: 0.7612 - val_categorical_accuracy: 0.7500\n",
      "\n",
      "Epoch 00044: saving model to model_init_2019-12-2212_33_12.571471/model-00044-0.52221-0.80995-0.76120-0.75000.h5\n",
      "Epoch 45/60\n",
      "42/42 [==============================] - 170s 4s/step - loss: 0.5415 - categorical_accuracy: 0.8250 - val_loss: 0.7302 - val_categorical_accuracy: 0.7400\n",
      "\n",
      "Epoch 00045: saving model to model_init_2019-12-2212_33_12.571471/model-00045-0.48024-0.83409-0.73020-0.74000.h5\n",
      "Epoch 46/60\n",
      "42/42 [==============================] - 207s 5s/step - loss: 0.6172 - categorical_accuracy: 0.8012 - val_loss: 0.6615 - val_categorical_accuracy: 0.7400\n",
      "\n",
      "Epoch 00046: saving model to model_init_2019-12-2212_33_12.571471/model-00046-0.52575-0.80995-0.66148-0.74000.h5\n",
      "Epoch 47/60\n",
      "42/42 [==============================] - 217s 5s/step - loss: 0.6359 - categorical_accuracy: 0.7994 - val_loss: 0.6205 - val_categorical_accuracy: 0.7500\n",
      "\n",
      "Epoch 00047: saving model to model_init_2019-12-2212_33_12.571471/model-00047-0.54615-0.80995-0.62047-0.75000.h5\n",
      "Epoch 48/60\n",
      "42/42 [==============================] - 251s 6s/step - loss: 0.5544 - categorical_accuracy: 0.8150 - val_loss: 0.6612 - val_categorical_accuracy: 0.7500\n",
      "\n",
      "Epoch 00048: saving model to model_init_2019-12-2212_33_12.571471/model-00048-0.49739-0.82202-0.66118-0.75000.h5\n",
      "Epoch 49/60\n",
      "42/42 [==============================] - 235s 6s/step - loss: 0.5943 - categorical_accuracy: 0.8072 - val_loss: 0.7054 - val_categorical_accuracy: 0.7400\n",
      "\n",
      "Epoch 00049: saving model to model_init_2019-12-2212_33_12.571471/model-00049-0.51582-0.81599-0.70541-0.74000.h5\n",
      "Epoch 50/60\n",
      "42/42 [==============================] - 175s 4s/step - loss: 0.5428 - categorical_accuracy: 0.8314 - val_loss: 0.6874 - val_categorical_accuracy: 0.7500\n",
      "\n",
      "Epoch 00050: saving model to model_init_2019-12-2212_33_12.571471/model-00050-0.48664-0.83861-0.68739-0.75000.h5\n",
      "Epoch 51/60\n",
      "42/42 [==============================] - 186s 4s/step - loss: 0.5368 - categorical_accuracy: 0.8250 - val_loss: 0.5775 - val_categorical_accuracy: 0.7500\n",
      "\n",
      "Epoch 00051: saving model to model_init_2019-12-2212_33_12.571471/model-00051-0.46863-0.83409-0.57747-0.75000.h5\n",
      "Epoch 52/60\n",
      "42/42 [==============================] - 197s 5s/step - loss: 0.5226 - categorical_accuracy: 0.8116 - val_loss: 0.7512 - val_categorical_accuracy: 0.7300\n",
      "\n",
      "Epoch 00052: saving model to model_init_2019-12-2212_33_12.571471/model-00052-0.47033-0.82051-0.75117-0.73000.h5\n",
      "Epoch 53/60\n",
      "42/42 [==============================] - 176s 4s/step - loss: 0.4766 - categorical_accuracy: 0.8243 - val_loss: 0.7063 - val_categorical_accuracy: 0.7400\n",
      "\n",
      "Epoch 00053: saving model to model_init_2019-12-2212_33_12.571471/model-00053-0.44875-0.82956-0.70627-0.74000.h5\n",
      "Epoch 54/60\n",
      "42/42 [==============================] - 237s 6s/step - loss: 0.5056 - categorical_accuracy: 0.8344 - val_loss: 0.8065 - val_categorical_accuracy: 0.7400\n",
      "\n",
      "Epoch 00054: saving model to model_init_2019-12-2212_33_12.571471/model-00054-0.45634-0.84163-0.80648-0.74000.h5\n",
      "Epoch 55/60\n",
      "42/42 [==============================] - 202s 5s/step - loss: 0.5402 - categorical_accuracy: 0.8288 - val_loss: 0.6923 - val_categorical_accuracy: 0.7400\n",
      "\n",
      "Epoch 00055: saving model to model_init_2019-12-2212_33_12.571471/model-00055-0.48914-0.83409-0.69232-0.74000.h5\n",
      "Epoch 56/60\n",
      "42/42 [==============================] - 245s 6s/step - loss: 0.4992 - categorical_accuracy: 0.8239 - val_loss: 0.7496 - val_categorical_accuracy: 0.7500\n",
      "\n",
      "Epoch 00056: saving model to model_init_2019-12-2212_33_12.571471/model-00056-0.46411-0.83107-0.74955-0.75000.h5\n",
      "Epoch 57/60\n",
      "42/42 [==============================] - 216s 5s/step - loss: 0.6318 - categorical_accuracy: 0.8128 - val_loss: 0.7095 - val_categorical_accuracy: 0.7400\n",
      "\n",
      "Epoch 00057: saving model to model_init_2019-12-2212_33_12.571471/model-00057-0.53589-0.82353-0.70950-0.74000.h5\n",
      "Epoch 58/60\n",
      "42/42 [==============================] - 236s 6s/step - loss: 0.5260 - categorical_accuracy: 0.8191 - val_loss: 0.5979 - val_categorical_accuracy: 0.7700\n",
      "\n",
      "Epoch 00058: saving model to model_init_2019-12-2212_33_12.571471/model-00058-0.47354-0.82805-0.59790-0.77000.h5\n",
      "Epoch 59/60\n",
      "42/42 [==============================] - 192s 5s/step - loss: 0.5851 - categorical_accuracy: 0.8210 - val_loss: 0.7103 - val_categorical_accuracy: 0.7400\n",
      "\n",
      "Epoch 00059: saving model to model_init_2019-12-2212_33_12.571471/model-00059-0.50852-0.82805-0.71028-0.74000.h5\n",
      "Epoch 60/60\n",
      "42/42 [==============================] - 186s 4s/step - loss: 0.5428 - categorical_accuracy: 0.8008 - val_loss: 0.7174 - val_categorical_accuracy: 0.7500\n",
      "\n",
      "Epoch 00060: saving model to model_init_2019-12-2212_33_12.571471/model-00060-0.48315-0.81146-0.71742-0.75000.h5\n"
     ]
    },
    {
     "data": {
      "text/plain": [
       "<keras.callbacks.History at 0x7f69e5bc6ef0>"
      ]
     },
     "execution_count": 16,
     "metadata": {},
     "output_type": "execute_result"
    }
   ],
   "source": [
    "model.fit_generator(train_generator, steps_per_epoch=steps_per_epoch, epochs=num_epochs, verbose=1, \n",
    "                    callbacks=callbacks_list, validation_data=val_generator, \n",
    "                    validation_steps=validation_steps, class_weight=None, workers=1, initial_epoch=0)"
   ]
  },
  {
   "cell_type": "markdown",
   "metadata": {},
   "source": [
    "#### As we can see, we obtained a max accuracy of 82% on training data, and 77% on validation data.\n",
    "\n",
    "### Therefore its clear that our CNN+RNN model is the better model overall with it's higher 98% training accuracy and 89% validation accuracy."
   ]
  },
  {
   "cell_type": "code",
   "execution_count": null,
   "metadata": {},
   "outputs": [],
   "source": []
  }
 ],
 "metadata": {
  "kernelspec": {
   "display_name": "Python 3",
   "language": "python",
   "name": "python3"
  },
  "language_info": {
   "codemirror_mode": {
    "name": "ipython",
    "version": 3
   },
   "file_extension": ".py",
   "mimetype": "text/x-python",
   "name": "python",
   "nbconvert_exporter": "python",
   "pygments_lexer": "ipython3",
   "version": "3.7.3"
  }
 },
 "nbformat": 4,
 "nbformat_minor": 2
}
